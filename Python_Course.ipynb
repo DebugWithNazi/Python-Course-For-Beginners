{
  "nbformat": 4,
  "nbformat_minor": 0,
  "metadata": {
    "colab": {
      "provenance": [],
      "authorship_tag": "ABX9TyPuZ9SKrqsJjk0/IvpzJ5Or",
      "include_colab_link": true
    },
    "kernelspec": {
      "name": "python3",
      "display_name": "Python 3"
    },
    "language_info": {
      "name": "python"
    }
  },
  "cells": [
    {
      "cell_type": "markdown",
      "metadata": {
        "id": "view-in-github",
        "colab_type": "text"
      },
      "source": [
        "<a href=\"https://colab.research.google.com/github/DebugWithNazi/Python-Course-For-Beginners/blob/main/Python_Course.ipynb\" target=\"_parent\"><img src=\"https://colab.research.google.com/assets/colab-badge.svg\" alt=\"Open In Colab\"/></a>"
      ]
    },
    {
      "cell_type": "markdown",
      "source": [
        "**Lecture 1:**"
      ],
      "metadata": {
        "id": "iXMDxmWLsqgl"
      }
    },
    {
      "cell_type": "markdown",
      "source": [
        "**Variables:**\n",
        "</b>\n",
        "\n",
        "1- Built in primitive types in python : number (integer, float etc), strings and boolean\n",
        "\n",
        "</b>\n",
        "\n",
        "2- Python is case sensitive language so false and False are not same\n",
        "\n",
        "</b>\n",
        "3- All the variable names must be descriptive and meaningfull\n"
      ],
      "metadata": {
        "id": "Rh6hKcOsEgiZ"
      }
    },
    {
      "cell_type": "code",
      "source": [
        "student_count = 1000 #number\n",
        "rating = 4.99 #float\n",
        "is_published = False #boolean\n",
        "course_name = \"Python Programming\" #string\n"
      ],
      "metadata": {
        "id": "G-TixJO-EftF"
      },
      "execution_count": null,
      "outputs": []
    },
    {
      "cell_type": "markdown",
      "source": [
        "**Strings**"
      ],
      "metadata": {
        "id": "EuA12cMxHmZv"
      }
    },
    {
      "cell_type": "code",
      "source": [
        "message1 = \"Python Programming\"\n",
        "message2 = \"\"\"Hi,\n",
        "my Name is xyz.\n",
        "and i want to learn Python\"\"\"\n",
        "\n",
        "print(message1)\n",
        "print(message2)\n",
        "\n",
        "print(len(message1)) # for total length of a string\n",
        "print(message1[0]) # first char\n",
        "print(message1[-1]) # last char"
      ],
      "metadata": {
        "colab": {
          "base_uri": "https://localhost:8080/"
        },
        "id": "2--4iam9HqHg",
        "outputId": "456e61f9-7c6a-47c5-8c24-f80b09296b33"
      },
      "execution_count": null,
      "outputs": [
        {
          "output_type": "stream",
          "name": "stdout",
          "text": [
            "Python Programming\n",
            "Hi,\n",
            "my Name is xyz.\n",
            "and i want to learn Python\n",
            "18\n",
            "P\n",
            "g\n"
          ]
        }
      ]
    },
    {
      "cell_type": "markdown",
      "source": [
        "Slicing in strings"
      ],
      "metadata": {
        "id": "nB1V5lkyIofg"
      }
    },
    {
      "cell_type": "code",
      "source": [
        "message = \"Python Programming\"\n",
        "print(message[0:3]) # it will give first three char but will not change the original char's\n",
        "print(message[0:])\n",
        "print(message[:3])\n",
        "print(message[:]) # it will return the copy of original string\n"
      ],
      "metadata": {
        "colab": {
          "base_uri": "https://localhost:8080/"
        },
        "id": "Xw3pLpfBIoEt",
        "outputId": "33a128f9-3b3d-40ea-d9ae-f2eff05136e7"
      },
      "execution_count": null,
      "outputs": [
        {
          "output_type": "stream",
          "name": "stdout",
          "text": [
            "Pyt\n",
            "Python Programming\n",
            "Pyt\n",
            "Python Programming\n"
          ]
        }
      ]
    },
    {
      "cell_type": "code",
      "source": [
        "variable = \"Python \\n Course\" # escape sequences : \\\", \\', \\\\, \\n (for new line)\n",
        "print(variable)"
      ],
      "metadata": {
        "colab": {
          "base_uri": "https://localhost:8080/"
        },
        "id": "PraMI8JWJghV",
        "outputId": "3f5025ad-3a45-461e-f78d-f505b89c5c03"
      },
      "execution_count": null,
      "outputs": [
        {
          "output_type": "stream",
          "name": "stdout",
          "text": [
            "Python \n",
            " Course\n"
          ]
        }
      ]
    },
    {
      "cell_type": "markdown",
      "source": [
        "**Formated Strings:**"
      ],
      "metadata": {
        "id": "3dvyWK1uKQlu"
      }
    },
    {
      "cell_type": "code",
      "source": [
        "first = \"Python\"\n",
        "last = \"Course\"\n",
        "full = f\"{first} {last}\"\n",
        "print(full)\n",
        "\n",
        "full = f\"{len(first)} {2+2}\"\n",
        "print(full)\n"
      ],
      "metadata": {
        "colab": {
          "base_uri": "https://localhost:8080/"
        },
        "id": "BlOpvNB8Iloo",
        "outputId": "ba17cfb8-47c1-424c-8777-9d57920e1020"
      },
      "execution_count": null,
      "outputs": [
        {
          "output_type": "stream",
          "name": "stdout",
          "text": [
            "Python Course\n",
            "6 4\n"
          ]
        }
      ]
    },
    {
      "cell_type": "markdown",
      "source": [
        "**Functions of string**"
      ],
      "metadata": {
        "id": "Itnl0wCZgT1z"
      }
    },
    {
      "cell_type": "code",
      "source": [
        "course = \" python Course \"\n",
        "# course. (have many string functions)\n",
        "print(course.upper()) # so these all functions return new modiefied string and not change original string\n",
        "print(course.strip())\n",
        "print(course.lower())\n",
        "print(course.title())\n",
        "\n",
        "print(course.find(\"Cou\"))\n",
        "print(course.find(\"COu\"))\n",
        "print(course.replace(\"p\",\"j\"))\n",
        "print(course)\n",
        "print(\"Cou\" in course)\n",
        "print(\"Cou\" not in course)\n"
      ],
      "metadata": {
        "colab": {
          "base_uri": "https://localhost:8080/"
        },
        "id": "7cEofbeqgX2L",
        "outputId": "daddde92-91e1-43a7-bffd-eaad6d7d4d1f"
      },
      "execution_count": null,
      "outputs": [
        {
          "output_type": "stream",
          "name": "stdout",
          "text": [
            " PYTHON COURSE \n",
            "python Course\n",
            " python course \n",
            " Python Course \n",
            "8\n",
            "-1\n",
            " jython Course \n",
            " python Course \n",
            "True\n",
            "False\n"
          ]
        }
      ]
    },
    {
      "cell_type": "markdown",
      "source": [
        "**Complex Numbers in Python:**\n",
        "<br>\n",
        "in python we have 3 types of numbers:\n",
        "<br>\n",
        "1- number (1)\n",
        "<br>\n",
        "2- float (2.7)\n",
        "<br>\n",
        "3- complex (2+5x)"
      ],
      "metadata": {
        "id": "CkharbfWjKmw"
      }
    },
    {
      "cell_type": "code",
      "source": [
        "x = 1 + 2j        # a + bi : where i is an imagonary number\n",
        "\n",
        "# standard arithmatic expressions\n",
        "print(10 + 3)\n",
        "print(10 - 3)\n",
        "print(10 * 3)\n",
        "print(10 / 3)\n",
        "print(10 // 3)\n",
        "print(10 % 3)\n",
        "print(10 ** 3)"
      ],
      "metadata": {
        "colab": {
          "base_uri": "https://localhost:8080/"
        },
        "id": "NYPcNHDgjJ5V",
        "outputId": "b4de10ea-fe22-42fb-d4f7-5e6493bfbd0d"
      },
      "execution_count": null,
      "outputs": [
        {
          "output_type": "stream",
          "name": "stdout",
          "text": [
            "13\n",
            "7\n",
            "30\n",
            "3.3333333333333335\n",
            "3\n",
            "1\n",
            "1000\n"
          ]
        }
      ]
    },
    {
      "cell_type": "markdown",
      "source": [
        "**Built in functions which works for numbers:**"
      ],
      "metadata": {
        "id": "QxE3hT1hkslQ"
      }
    },
    {
      "cell_type": "code",
      "source": [
        "print(round(2.9))\n",
        "print(abs(-2.9))\n",
        "\n",
        "# math. we can use many functions from math module by using . with math obj after importing the math module"
      ],
      "metadata": {
        "colab": {
          "base_uri": "https://localhost:8080/"
        },
        "id": "RDwcSrtekr75",
        "outputId": "76874f90-2d80-43df-92d7-6207554eb587"
      },
      "execution_count": null,
      "outputs": [
        {
          "output_type": "stream",
          "name": "stdout",
          "text": [
            "3\n",
            "2.9\n"
          ]
        }
      ]
    },
    {
      "cell_type": "markdown",
      "source": [
        "**Type Conversion**"
      ],
      "metadata": {
        "id": "sfHRMQg7lkeP"
      }
    },
    {
      "cell_type": "code",
      "source": [
        "val = input(\"x: \")\n",
        "#sum = val + 1 # will give error\n",
        "sum = int(val) + 1 # type conversion\n",
        "print(type(val))\n",
        "print(sum)"
      ],
      "metadata": {
        "colab": {
          "base_uri": "https://localhost:8080/"
        },
        "id": "AoM_qyKqlnwp",
        "outputId": "d44ee591-8ecf-475a-c05e-5f056aaf2c5c"
      },
      "execution_count": null,
      "outputs": [
        {
          "output_type": "stream",
          "name": "stdout",
          "text": [
            "x: 5\n",
            "<class 'str'>\n",
            "6\n"
          ]
        }
      ]
    },
    {
      "cell_type": "code",
      "source": [
        "# Falsy Values for bool Type\n",
        "# \"\"\n",
        "# 0\n",
        "# None\n",
        "print(bool(0))\n",
        "print(bool(\"\"))\n",
        "print(bool(None))\n",
        "print(bool(False))\n",
        "print(bool(-1))\n",
        "print(bool(\"False\"))"
      ],
      "metadata": {
        "colab": {
          "base_uri": "https://localhost:8080/"
        },
        "id": "YV91drrngpUk",
        "outputId": "05ed3dcf-e1f7-412e-b7b4-7e671c401a07"
      },
      "execution_count": null,
      "outputs": [
        {
          "output_type": "stream",
          "name": "stdout",
          "text": [
            "False\n",
            "False\n",
            "False\n",
            "False\n",
            "True\n",
            "True\n"
          ]
        }
      ]
    },
    {
      "cell_type": "markdown",
      "source": [
        "**Lecture 2:**\n",
        "> Control Flows\n",
        "\n"
      ],
      "metadata": {
        "id": "vKUvS40Ss1-U"
      }
    },
    {
      "cell_type": "markdown",
      "source": [
        "**Comparison Operators:**"
      ],
      "metadata": {
        "id": "AXreXfV0Yn6o"
      }
    },
    {
      "cell_type": "code",
      "source": [
        "print(10 > 3) # for comparing values\n",
        "print(10 > 20)\n",
        "print(10 == \"10\") # False because types are different\n",
        "print(10 != \"10\")\n",
        "print(\"bag\" > \"apple\") # True because bags comes after apples when we sort\n",
        "print(\"bag\" == \"BAG\") # because python is case sensitive\n"
      ],
      "metadata": {
        "colab": {
          "base_uri": "https://localhost:8080/"
        },
        "id": "XgFvmfYXYsNL",
        "outputId": "44ec2256-14ee-4902-d0ab-adc5ad04feea"
      },
      "execution_count": null,
      "outputs": [
        {
          "output_type": "stream",
          "name": "stdout",
          "text": [
            "True\n",
            "False\n",
            "False\n",
            "True\n",
            "True\n",
            "False\n"
          ]
        }
      ]
    },
    {
      "cell_type": "markdown",
      "source": [
        "**Conditional Statements:**"
      ],
      "metadata": {
        "id": "30yjlQKgZuiJ"
      }
    },
    {
      "cell_type": "code",
      "source": [
        "marks = 30\n",
        "if marks > 35:\n",
        "    print(\"Passed\")\n",
        "elif marks == 35: # we can add as many elif statements as we want\n",
        "    print(\"Poor\")\n",
        "else:\n",
        "    print(\"Fail\")\n"
      ],
      "metadata": {
        "colab": {
          "base_uri": "https://localhost:8080/"
        },
        "id": "AnifNwvvZzGZ",
        "outputId": "1250c73c-18de-4a0f-d38f-486beee47a80"
      },
      "execution_count": null,
      "outputs": [
        {
          "output_type": "stream",
          "name": "stdout",
          "text": [
            "Fail\n"
          ]
        }
      ]
    },
    {
      "cell_type": "markdown",
      "source": [
        "**Ternary Operators:**"
      ],
      "metadata": {
        "id": "gzdhSCuya7_P"
      }
    },
    {
      "cell_type": "code",
      "source": [
        "marks = 40\n",
        "result = \"Passed\" if marks >= 35 else \"Fail\"\n",
        "print(result)"
      ],
      "metadata": {
        "colab": {
          "base_uri": "https://localhost:8080/"
        },
        "id": "NKXuqrKGa-mE",
        "outputId": "90d5f39f-40ec-4776-dbdd-e73bbee6b021"
      },
      "execution_count": null,
      "outputs": [
        {
          "output_type": "stream",
          "name": "stdout",
          "text": [
            "Passed\n"
          ]
        }
      ]
    },
    {
      "cell_type": "markdown",
      "source": [
        "**Logical Operators:**\n",
        "in python we have 3 logical operators (and , or , not)"
      ],
      "metadata": {
        "id": "_opGLTYzbjKi"
      }
    },
    {
      "cell_type": "code",
      "source": [
        "high_gpa = True\n",
        "experience = True\n",
        "\n",
        "if high_gpa and experience: # result True if both conditions are true\n",
        "    print(\"Placement\")\n",
        "\n",
        "if high_gpa or experience: # result True if one of the condition is true\n",
        "    print(\"You may get a chance\")\n",
        "\n",
        "placement = False\n",
        "\n",
        "if not placement: # not will negate the value\n",
        "    print(\"Can't work\")\n",
        "\n",
        "# short circuiting concept?\n",
        "# it means in \"and\" if first condition is false it will not see next conditions but left the if statement\n",
        "# but, in case of \"or\" if first condition is true it will execute the statement, will not see next conditions\n",
        "# so in python logical expressions are short circuits"
      ],
      "metadata": {
        "colab": {
          "base_uri": "https://localhost:8080/"
        },
        "id": "FTxKHOeVbm3_",
        "outputId": "13367703-58a6-44fe-a389-4c2d33ffd2c2"
      },
      "execution_count": null,
      "outputs": [
        {
          "output_type": "stream",
          "name": "stdout",
          "text": [
            "Placement\n",
            "Placement\n"
          ]
        }
      ]
    },
    {
      "cell_type": "markdown",
      "source": [
        "**Chaining comparison operator:**"
      ],
      "metadata": {
        "id": "VwdSZnj3diuf"
      }
    },
    {
      "cell_type": "code",
      "source": [
        "age = 22\n",
        "# age should be between 18 and 70\n",
        "if 18 <= age < 70:\n",
        "    print(\"Eligible\")"
      ],
      "metadata": {
        "colab": {
          "base_uri": "https://localhost:8080/"
        },
        "id": "gB30v_FTdibG",
        "outputId": "f24d138a-17b6-4225-cb5a-92674fd27346"
      },
      "execution_count": null,
      "outputs": [
        {
          "output_type": "stream",
          "name": "stdout",
          "text": [
            "Eligible\n"
          ]
        }
      ]
    },
    {
      "cell_type": "markdown",
      "source": [
        "**For Loop:**"
      ],
      "metadata": {
        "id": "kifITkSLkEc7"
      }
    },
    {
      "cell_type": "code",
      "source": [
        "for number in range(5):\n",
        "    print(\"This is my message!\", number)\n",
        "print(\"-----\")\n",
        "for number in range(1,4):\n",
        "    print(\"This is my message!\", number)\n",
        "\n",
        "print(\"-----\")\n",
        "for number in range(1,4,2):\n",
        "    print(number)"
      ],
      "metadata": {
        "colab": {
          "base_uri": "https://localhost:8080/"
        },
        "id": "XQStEsV0kDx7",
        "outputId": "8595edde-e44d-4df3-dac7-bd2a824885bd"
      },
      "execution_count": null,
      "outputs": [
        {
          "output_type": "stream",
          "name": "stdout",
          "text": [
            "This is my message! 0\n",
            "This is my message! 1\n",
            "This is my message! 2\n",
            "This is my message! 3\n",
            "This is my message! 4\n",
            "-----\n",
            "This is my message! 1\n",
            "This is my message! 2\n",
            "This is my message! 3\n",
            "-----\n",
            "1\n",
            "3\n"
          ]
        }
      ]
    },
    {
      "cell_type": "markdown",
      "source": [
        "**For Else:**"
      ],
      "metadata": {
        "id": "8yRSL0punO46"
      }
    },
    {
      "cell_type": "code",
      "source": [
        "successful = True\n",
        "for number in range(3):\n",
        "  if successful:\n",
        "     print(\"Attempt\")\n",
        "     break\n",
        "else:\n",
        "    print(\"failed\") #if it's not break in for loop then it will execute it, otherwise it will execute else statement\n"
      ],
      "metadata": {
        "colab": {
          "base_uri": "https://localhost:8080/"
        },
        "id": "x0-7sghAntcF",
        "outputId": "aa4e1fab-8cc7-4509-b172-0997f22cfdd6"
      },
      "execution_count": null,
      "outputs": [
        {
          "output_type": "stream",
          "name": "stdout",
          "text": [
            "Attempt\n"
          ]
        }
      ]
    },
    {
      "cell_type": "markdown",
      "source": [
        "**Nested Loops:**"
      ],
      "metadata": {
        "id": "tSHUB_FGpeu_"
      }
    },
    {
      "cell_type": "code",
      "source": [
        "for x in range(3):\n",
        "    for y in range(2):\n",
        "        print(f\"({x},{y})\")"
      ],
      "metadata": {
        "colab": {
          "base_uri": "https://localhost:8080/"
        },
        "id": "npZfP3eGpg_p",
        "outputId": "696b63e3-27a9-4aa1-d7e5-1f6a1681df8d"
      },
      "execution_count": null,
      "outputs": [
        {
          "output_type": "stream",
          "name": "stdout",
          "text": [
            "(0,0)\n",
            "(0,1)\n",
            "(1,0)\n",
            "(1,1)\n",
            "(2,0)\n",
            "(2,1)\n"
          ]
        }
      ]
    },
    {
      "cell_type": "markdown",
      "source": [
        "**While Loop:**"
      ],
      "metadata": {
        "id": "DxO5JRI4qp-A"
      }
    },
    {
      "cell_type": "code",
      "source": [
        "number = 12\n",
        "while number > 0:\n",
        "    print(number)\n",
        "    number = number // 2"
      ],
      "metadata": {
        "colab": {
          "base_uri": "https://localhost:8080/"
        },
        "id": "J0fL__IHqtqR",
        "outputId": "05aecd6a-e750-4651-a691-74a8d3878389"
      },
      "execution_count": null,
      "outputs": [
        {
          "output_type": "stream",
          "name": "stdout",
          "text": [
            "12\n",
            "6\n",
            "3\n",
            "1\n"
          ]
        }
      ]
    },
    {
      "cell_type": "markdown",
      "source": [
        "**Lecture 3**"
      ],
      "metadata": {
        "id": "DrVZf1hcaC1p"
      }
    },
    {
      "cell_type": "markdown",
      "source": [
        "Functions: (user-defined or custom functions)"
      ],
      "metadata": {
        "id": "po9lzm10aRys"
      }
    },
    {
      "cell_type": "code",
      "source": [
        "def function():\n",
        "  print(\"This is my function\")\n",
        "\n",
        "function()"
      ],
      "metadata": {
        "colab": {
          "base_uri": "https://localhost:8080/"
        },
        "id": "VbmzCELYaRVQ",
        "outputId": "8670817e-f4cc-4f13-9699-875c0fbb6f08"
      },
      "execution_count": null,
      "outputs": [
        {
          "output_type": "stream",
          "name": "stdout",
          "text": [
            "This is my function\n"
          ]
        }
      ]
    },
    {
      "cell_type": "markdown",
      "source": [
        "**Difference in parameter and arguments?**\n",
        "> parameter is the input that you define for your function such as\n",
        "`def function(param1,param2)`\n",
        "\n",
        "> while arguments is the actual value, which we pass, when we call the function.\n",
        "`def function(\"abc\",\"xyz\")`"
      ],
      "metadata": {
        "id": "07f-wkQJd9zy"
      }
    },
    {
      "cell_type": "code",
      "source": [
        "def greet(first_name,last_name): # these are required parameters\n",
        "  print(f\"Hi {first_name} {last_name}\")\n",
        "\n",
        "greet(\"abc\",\"xyz\")"
      ],
      "metadata": {
        "colab": {
          "base_uri": "https://localhost:8080/"
        },
        "id": "A1Umn1mraHxn",
        "outputId": "372f0da1-3de7-4465-e62f-c41eccfadf34"
      },
      "execution_count": null,
      "outputs": [
        {
          "output_type": "stream",
          "name": "stdout",
          "text": [
            "Hi abc xyz\n"
          ]
        }
      ]
    },
    {
      "cell_type": "markdown",
      "source": [
        "**Types of functions**\n",
        "\n",
        "\n",
        "1.   Perform a task (print the output)\n",
        "2.   Calculate a value (return the value/output)\n",
        "\n"
      ],
      "metadata": {
        "id": "xGf9XUrGfe5n"
      }
    },
    {
      "cell_type": "code",
      "source": [
        "def greet(name):\n",
        "    print(f\"hi {name}\")\n",
        "\n",
        "def greeting(name):\n",
        "    return f\"hi {name}\""
      ],
      "metadata": {
        "id": "d2ABJpdCfiHZ"
      },
      "execution_count": null,
      "outputs": []
    },
    {
      "cell_type": "markdown",
      "source": [
        "**Keyword Arguments / Parameters**"
      ],
      "metadata": {
        "id": "t5AMAKgB36Lj"
      }
    },
    {
      "cell_type": "code",
      "source": [
        "def addition(number1, number2):\n",
        "    return number1 + number2\n",
        "\n",
        "print(addition(4, number2=6)) # keyword argument"
      ],
      "metadata": {
        "colab": {
          "base_uri": "https://localhost:8080/"
        },
        "id": "ocoup4b13_oL",
        "outputId": "bb8cc1ea-5764-4d24-88fd-5087768842c4"
      },
      "execution_count": null,
      "outputs": [
        {
          "output_type": "stream",
          "name": "stdout",
          "text": [
            "10\n"
          ]
        }
      ]
    },
    {
      "cell_type": "markdown",
      "source": [
        "**Default Arguments / Parameters**"
      ],
      "metadata": {
        "id": "_qLdw_ac6GAG"
      }
    },
    {
      "cell_type": "code",
      "source": [
        "def addition(number1,number2=2):\n",
        "    return number1 + number2\n",
        "\n",
        "print(addition(2,5))"
      ],
      "metadata": {
        "colab": {
          "base_uri": "https://localhost:8080/"
        },
        "id": "mpJXD-rl6Lbk",
        "outputId": "b584c05e-54cc-4195-b2e6-2ee2679bd258"
      },
      "execution_count": null,
      "outputs": [
        {
          "output_type": "stream",
          "name": "stdout",
          "text": [
            "7\n"
          ]
        }
      ]
    },
    {
      "cell_type": "markdown",
      "source": [
        "***Arguments**"
      ],
      "metadata": {
        "id": "cGGmLw3cHSRJ"
      }
    },
    {
      "cell_type": "code",
      "source": [
        "def multiply(*numbers):\n",
        "  total = 1\n",
        "  for num in numbers:\n",
        "     total *= num\n",
        "  return total\n",
        "\n",
        "print(multiply(2,3,4,5))"
      ],
      "metadata": {
        "colab": {
          "base_uri": "https://localhost:8080/"
        },
        "id": "VIhSmZwOHaW5",
        "outputId": "b602df84-0624-4593-d85d-2819274ddcb0"
      },
      "execution_count": null,
      "outputs": [
        {
          "output_type": "stream",
          "name": "stdout",
          "text": [
            "120\n"
          ]
        }
      ]
    },
    {
      "cell_type": "markdown",
      "source": [
        " ****Arguments**"
      ],
      "metadata": {
        "id": "XyAH0-a3SDb3"
      }
    },
    {
      "cell_type": "code",
      "source": [
        "def SaveInfo(**user): #when we pass param with **, then we can pass multiple key-value pairs\n",
        "    print(user)\n",
        "    print(user[\"id\"])\n",
        "    print(user[\"name\"])\n",
        "    print(user[\"age\"])\n",
        "\n",
        "SaveInfo(id=1, name=\"Isha\", age=22)"
      ],
      "metadata": {
        "colab": {
          "base_uri": "https://localhost:8080/"
        },
        "id": "CSiXSIOASKU6",
        "outputId": "3e1f91b5-ef4e-4891-ead7-7d522dcb0e7d"
      },
      "execution_count": null,
      "outputs": [
        {
          "output_type": "stream",
          "name": "stdout",
          "text": [
            "{'id': 1, 'name': 'Isha', 'age': 22}\n",
            "1\n",
            "Isha\n",
            "22\n"
          ]
        }
      ]
    },
    {
      "cell_type": "markdown",
      "source": [
        "**Lecture 4:**\n",
        "\n",
        "> Data structures (built-in data structures in python)\n"
      ],
      "metadata": {
        "id": "xHon62EyW1ze"
      }
    },
    {
      "cell_type": "markdown",
      "source": [
        "**Lists:**"
      ],
      "metadata": {
        "id": "D5ayazSxXgnm"
      }
    },
    {
      "cell_type": "code",
      "source": [
        "letters = [\"a\",\"b\",\"c\"] # list of characters\n",
        "numbers = [1,2,3,4,5] # list of numbers\n",
        "matrix = [ [1,2], [2,3]] # list of lists\n",
        "zeros = [0] * 5 # '*' is used to repeat the items in a list\n",
        "print(zeros)\n",
        "combined = zeros + letters # '+' to concatinate the lists\n",
        "print(combined)\n",
        "\n",
        "listOfNum = list(range(20)) # it will print the numbers in range of 0 to 19\n",
        "print(listOfNum)\n",
        "\n",
        "chars = list(\"hello world!\")\n",
        "print(chars)\n",
        "print(len(chars)) # len func use to find the length of the list"
      ],
      "metadata": {
        "id": "Tn1spBHsW1im",
        "colab": {
          "base_uri": "https://localhost:8080/"
        },
        "outputId": "650c58dc-e275-440b-d024-5756a90863ea"
      },
      "execution_count": null,
      "outputs": [
        {
          "output_type": "stream",
          "name": "stdout",
          "text": [
            "[0, 0, 0, 0, 0]\n",
            "[0, 0, 0, 0, 0, 'a', 'b', 'c']\n",
            "[0, 1, 2, 3, 4, 5, 6, 7, 8, 9, 10, 11, 12, 13, 14, 15, 16, 17, 18, 19]\n",
            "['h', 'e', 'l', 'l', 'o', ' ', 'w', 'o', 'r', 'l', 'd', '!']\n",
            "12\n"
          ]
        }
      ]
    },
    {
      "cell_type": "markdown",
      "source": [
        "**Accessing items in a list:**"
      ],
      "metadata": {
        "id": "VAguhxYiQa8d"
      }
    },
    {
      "cell_type": "code",
      "source": [
        "letters = [\"a\",\"b\",\"c\",\"d\"]\n",
        "print(letters[0]) # print first letter\n",
        "print(letters[-1]) # print last letter\n",
        "\n",
        "letters[0] = \"A\" # using [], we can also modify the string\n",
        "print(letters)\n",
        "print(letters[0:3]) # print first 3 items from our original list\n",
        "print(letters[:3])\n",
        "print(letters[0:])\n",
        "print(letters[::2]) # if you want to skip numbers and jump the index to 2 instead of 1\n",
        "\n",
        "numbers = list(range(10))\n",
        "print(numbers)\n",
        "print(numbers[::-1]) # print the list in reverse order cause of -1\n"
      ],
      "metadata": {
        "colab": {
          "base_uri": "https://localhost:8080/"
        },
        "id": "KsJar-q3QemY",
        "outputId": "a04c07e3-0886-47ee-c7e7-f5ee4b9d4f81"
      },
      "execution_count": null,
      "outputs": [
        {
          "output_type": "stream",
          "name": "stdout",
          "text": [
            "a\n",
            "d\n",
            "['A', 'b', 'c', 'd']\n",
            "['A', 'b', 'c']\n",
            "['A', 'b', 'c']\n",
            "['A', 'b', 'c', 'd']\n",
            "['A', 'c']\n",
            "[0, 1, 2, 3, 4, 5, 6, 7, 8, 9]\n",
            "[9, 8, 7, 6, 5, 4, 3, 2, 1, 0]\n"
          ]
        }
      ]
    },
    {
      "cell_type": "markdown",
      "source": [
        "**List Unpacking:**"
      ],
      "metadata": {
        "id": "VypU1HbcSJXk"
      }
    },
    {
      "cell_type": "code",
      "source": [
        "numbers = [1,2,3]\n",
        "first, second, thrid = numbers # so we unpack the list and save the values in these variables\n",
        "\n",
        "# what if we have less variables but more numbers in the list\n",
        "numList = [1,2,3,4,5,6,7]\n",
        "first, second, *other = numList # first we unpack the list and add first two numbers in first and second variable,\n",
        "#then pack other elements in *other list\n",
        "print(first)\n",
        "print(second)\n",
        "print(other)\n",
        "\n",
        "anotherList = [1,2,3,4,5,6,7]\n",
        "first, *others, last = anotherList\n",
        "print(first)\n",
        "print(others)\n",
        "print(last)\n"
      ],
      "metadata": {
        "colab": {
          "base_uri": "https://localhost:8080/"
        },
        "id": "Aiye9HCVREX-",
        "outputId": "3d68967e-87c7-418f-cadb-d1abf1e35c82"
      },
      "execution_count": null,
      "outputs": [
        {
          "output_type": "stream",
          "name": "stdout",
          "text": [
            "1\n",
            "2\n",
            "[3, 4, 5, 6, 7]\n",
            "1\n",
            "[2, 3, 4, 5, 6]\n",
            "7\n"
          ]
        }
      ]
    },
    {
      "cell_type": "markdown",
      "source": [
        "**Looping over lists:**"
      ],
      "metadata": {
        "id": "SAwAcLf7UqKJ"
      }
    },
    {
      "cell_type": "code",
      "source": [
        "letters = ['a','b','c']\n",
        "for letter in letters: # it will print the value\n",
        "   print(letter)\n",
        "\n",
        "for index,letter in enumerate(letters): # it will print the index and value\n",
        "   print(index,letter)\n"
      ],
      "metadata": {
        "colab": {
          "base_uri": "https://localhost:8080/"
        },
        "id": "NkcRaSMGUuAg",
        "outputId": "94186ea7-1911-4ec5-f8cf-4f5469ca3759"
      },
      "execution_count": null,
      "outputs": [
        {
          "output_type": "stream",
          "name": "stdout",
          "text": [
            "a\n",
            "b\n",
            "c\n",
            "0 a\n",
            "1 b\n",
            "2 c\n"
          ]
        }
      ]
    },
    {
      "cell_type": "markdown",
      "source": [
        "**Adding and Removing items in a list:**"
      ],
      "metadata": {
        "id": "Z_ZW63cFsKfH"
      }
    },
    {
      "cell_type": "code",
      "source": [
        "letter = [\"a\",\"b\",\"c\"]\n",
        "letter.append(\"d\")\n",
        "letter.insert(0,\"-\")\n",
        "print(letter)\n",
        "\n",
        "letter.pop()\n",
        "print(letter)\n",
        "letter.pop(0) # if you know the index\n",
        "print(letter)\n",
        "\n",
        "letter.remove(\"b\") # if don't know the index, it will remove first occurance of 'b'\n",
        "print(letter)\n",
        "\n",
        "del letter[0:2] # it will remove / delete the range of letters\n",
        "print(letter)\n",
        "\n",
        "letter.clear() # if you want to remove all the objects in the list\n",
        "print(letter)\n"
      ],
      "metadata": {
        "colab": {
          "base_uri": "https://localhost:8080/"
        },
        "id": "jb8_uC_DsPT9",
        "outputId": "63d29aea-a510-4df9-98de-8b3ae49f01e8"
      },
      "execution_count": null,
      "outputs": [
        {
          "output_type": "stream",
          "name": "stdout",
          "text": [
            "['-', 'a', 'b', 'c', 'd']\n",
            "['-', 'a', 'b', 'c']\n",
            "['a', 'b', 'c']\n",
            "['a', 'c']\n",
            "[]\n",
            "[]\n"
          ]
        }
      ]
    },
    {
      "cell_type": "markdown",
      "source": [
        "**Finding Objects in a list:**"
      ],
      "metadata": {
        "id": "-zYED0-6td-q"
      }
    },
    {
      "cell_type": "code",
      "source": [
        "letter = ['a','b','c']\n",
        "print(letter.index('a')) # if we want to find the index of 'a'\n",
        "\n",
        "# if a character is not list then this index function can give error\n",
        "if 'd' in letter:\n",
        "   print(letter.index('d'))\n",
        "\n",
        "# For getting number of occurences\n",
        "print(letter.count('d'))"
      ],
      "metadata": {
        "colab": {
          "base_uri": "https://localhost:8080/"
        },
        "id": "rFzik4q8thjI",
        "outputId": "b2dbe3fc-fb1c-47cf-ba57-2b2405d85310"
      },
      "execution_count": null,
      "outputs": [
        {
          "output_type": "stream",
          "name": "stdout",
          "text": [
            "0\n",
            "0\n"
          ]
        }
      ]
    },
    {
      "cell_type": "markdown",
      "source": [
        "**Sorting Lists:**"
      ],
      "metadata": {
        "id": "sV2TRxfp3Fto"
      }
    },
    {
      "cell_type": "code",
      "source": [
        "numbers = [1,5,2,4,7,10]\n",
        "numbers.sort() # for ascending\n",
        "print(numbers)\n",
        "\n",
        "numbers.sort(reverse = True) # for descending\n",
        "print(numbers)\n",
        "\n",
        "num = [3,1,4,56,3]\n",
        "print(sorted(num)) # for ascending (but this function will not modify the original list)\n",
        "print(num)"
      ],
      "metadata": {
        "colab": {
          "base_uri": "https://localhost:8080/"
        },
        "id": "5XjMX4T43JRZ",
        "outputId": "432b0d03-660f-45c4-bb7d-3ab810a4e877"
      },
      "execution_count": null,
      "outputs": [
        {
          "output_type": "stream",
          "name": "stdout",
          "text": [
            "[1, 2, 4, 5, 7, 10]\n",
            "[10, 7, 5, 4, 2, 1]\n",
            "[1, 3, 3, 4, 56]\n",
            "[3, 1, 4, 56, 3]\n"
          ]
        }
      ]
    },
    {
      "cell_type": "markdown",
      "source": [
        "**lambda function (anonymous function):**"
      ],
      "metadata": {
        "id": "Z-mKUO7J422-"
      }
    },
    {
      "cell_type": "code",
      "source": [
        "myList = [\n",
        "    (\"product1\",7),\n",
        "    (\"product2\",20),\n",
        "    (\"product3\",11),\n",
        "] # now we can sort this list but using simple sort or sorted function\n",
        "\n",
        "myList.sort(key = lambda item: item[1])\n",
        "print(myList)"
      ],
      "metadata": {
        "colab": {
          "base_uri": "https://localhost:8080/"
        },
        "id": "zuGjTb-E5W3z",
        "outputId": "26cf867b-c0c9-470e-974d-2f7c1706d74e"
      },
      "execution_count": null,
      "outputs": [
        {
          "output_type": "stream",
          "name": "stdout",
          "text": [
            "[('product1', 7), ('product3', 11), ('product2', 20)]\n"
          ]
        }
      ]
    },
    {
      "cell_type": "markdown",
      "source": [
        "**Map function:**"
      ],
      "metadata": {
        "id": "m40BC-Zc6fhB"
      }
    },
    {
      "cell_type": "code",
      "source": [
        "myList = [\n",
        "    (\"product1\",7),\n",
        "    (\"product2\",20),\n",
        "    (\"product3\",11),\n",
        "]\n",
        "prices = list(map(lambda item: item[1],myList)) # map is used to get the specific value from tuple of lists\n",
        "for price in prices: # and it will return iterable\n",
        "   print(price)"
      ],
      "metadata": {
        "colab": {
          "base_uri": "https://localhost:8080/"
        },
        "id": "ckVrZNkW6iO6",
        "outputId": "56bb8462-9105-43c8-f5f9-b1fa9499f3c9"
      },
      "execution_count": null,
      "outputs": [
        {
          "output_type": "stream",
          "name": "stdout",
          "text": [
            "7\n",
            "20\n",
            "11\n"
          ]
        }
      ]
    },
    {
      "cell_type": "markdown",
      "source": [
        "**Filter function:**"
      ],
      "metadata": {
        "id": "QL_NPU1CaWk1"
      }
    },
    {
      "cell_type": "code",
      "source": [
        "items = [\n",
        "    (\"product1\",7),\n",
        "    (\"product2\",20),\n",
        "    (\"product3\",11),\n",
        "]\n",
        "\n",
        "x = list(filter(lambda item: item[1] >= 10, items))\n",
        "for item in x:\n",
        "   print(item)"
      ],
      "metadata": {
        "colab": {
          "base_uri": "https://localhost:8080/"
        },
        "id": "EVewL8Waatnt",
        "outputId": "3f668e1d-636c-4179-d20b-eb0a1a36e4a0"
      },
      "execution_count": null,
      "outputs": [
        {
          "output_type": "stream",
          "name": "stdout",
          "text": [
            "('product2', 20)\n",
            "('product3', 11)\n"
          ]
        }
      ]
    },
    {
      "cell_type": "markdown",
      "source": [
        "**List Comprehension:**"
      ],
      "metadata": {
        "id": "N7zv8wwsdM_L"
      }
    },
    {
      "cell_type": "code",
      "source": [
        "prices = [item[1] for item in items] # list comprehension (equivalent to map)\n",
        "for price in prices:\n",
        "   print(price)\n",
        "print(\"----\")\n",
        "prices = [item[1] for item in items if item[1] >= 10] # list comprehension (equivalent to filter)\n",
        "for price in prices:\n",
        "   print(price)"
      ],
      "metadata": {
        "colab": {
          "base_uri": "https://localhost:8080/"
        },
        "id": "xepLgDfmdQCA",
        "outputId": "4c4aa3be-c70f-45dc-b86e-a6c4ce894b29"
      },
      "execution_count": null,
      "outputs": [
        {
          "output_type": "stream",
          "name": "stdout",
          "text": [
            "7\n",
            "20\n",
            "11\n",
            "----\n",
            "20\n",
            "11\n"
          ]
        }
      ]
    },
    {
      "cell_type": "markdown",
      "source": [
        "**Zip Function:**"
      ],
      "metadata": {
        "id": "QrNBCD_5gPku"
      }
    },
    {
      "cell_type": "code",
      "source": [
        "list1 = [1, 2, 3]\n",
        "list2 = [10, 20, 30]\n",
        "\n",
        "combined = zip('abc',list1, list2) # it return zip object (iterable)\n",
        "print(list(combined))"
      ],
      "metadata": {
        "colab": {
          "base_uri": "https://localhost:8080/"
        },
        "id": "0N7JLoXzgSxh",
        "outputId": "7dba85a3-8cb7-4e98-e26b-1b715a82deee"
      },
      "execution_count": null,
      "outputs": [
        {
          "output_type": "stream",
          "name": "stdout",
          "text": [
            "[('a', 1, 10), ('b', 2, 20), ('c', 3, 30)]\n"
          ]
        }
      ]
    },
    {
      "cell_type": "markdown",
      "source": [
        "**Lecture 5:**"
      ],
      "metadata": {
        "id": "HXrIC79N-BSf"
      }
    },
    {
      "cell_type": "markdown",
      "source": [
        "\n",
        "\n",
        "> Stack : LastIn-FirstOut"
      ],
      "metadata": {
        "id": "hQl0K-H7-Hxo"
      }
    },
    {
      "cell_type": "code",
      "source": [
        "stack = []\n",
        "stack.append(1)\n",
        "stack.append(2)\n",
        "stack.append(3)\n",
        "print(stack)\n",
        "\n",
        "last = stack.pop()\n",
        "print(last)\n",
        "\n",
        "if stack:\n",
        "  top = stack[-1]\n",
        "  print(top)"
      ],
      "metadata": {
        "colab": {
          "base_uri": "https://localhost:8080/"
        },
        "id": "yAcjkqZC-yje",
        "outputId": "c19f325f-7d01-421e-f5a2-69ee00700d1d"
      },
      "execution_count": null,
      "outputs": [
        {
          "output_type": "stream",
          "name": "stdout",
          "text": [
            "[1, 2, 3]\n",
            "3\n",
            "2\n"
          ]
        }
      ]
    },
    {
      "cell_type": "markdown",
      "source": [
        "\n",
        "\n",
        "> Queue : FirstIn-FirstOut"
      ],
      "metadata": {
        "id": "W_rE4ulkBozY"
      }
    },
    {
      "cell_type": "code",
      "source": [
        "from collections import deque\n",
        "\n",
        "queue = deque([])\n",
        "queue.append(1)\n",
        "queue.append(2)\n",
        "queue.append(3)\n",
        "print(queue)\n",
        "\n",
        "first = queue.popleft()\n",
        "print(first)\n",
        "\n",
        "if queue:\n",
        "  first = queue[0]\n",
        "  print(first)"
      ],
      "metadata": {
        "colab": {
          "base_uri": "https://localhost:8080/"
        },
        "id": "kcIKGZOSA5bg",
        "outputId": "22a8c9ed-49a6-4af6-c5ac-f88c07c3dcbb"
      },
      "execution_count": null,
      "outputs": [
        {
          "output_type": "stream",
          "name": "stdout",
          "text": [
            "deque([1, 2, 3])\n",
            "1\n",
            "2\n"
          ]
        }
      ]
    },
    {
      "cell_type": "markdown",
      "source": [
        "**Tuples:**\n",
        "\n",
        "\n",
        "> A tuple is basically a read-only list, we can't add anything in it and can't modify anything in it. So, tuples are immutable, we can't change them. But we can access the values of tuples like list and access them by slicing too.\n",
        "\n",
        "\n",
        "> Usage of tuples: we can use them where we don't accidently want to modify the values.\n",
        "\n",
        "\n",
        "\n"
      ],
      "metadata": {
        "id": "WUCGoBHpLXEO"
      }
    },
    {
      "cell_type": "code",
      "source": [
        "point1 = (1,2)\n",
        "print(point1)\n",
        "\n",
        "point2 = 1,2\n",
        "print(point2)\n",
        "\n",
        "point3 = 1,\n",
        "print(point3)\n",
        "\n",
        "# concatenate two tuples by '+'\n",
        "combined = point1 + point2\n",
        "print(combined)\n",
        "\n",
        "# We can also use '*' to repreat the tuple\n",
        "newTuple = point1 * 3\n",
        "print(newTuple)\n",
        "\n",
        "# We can also convert a list into tuple by using tuple function\n",
        "myList = [1,2,3]\n",
        "newTuple = tuple(myList)\n",
        "print(newTuple)\n"
      ],
      "metadata": {
        "colab": {
          "base_uri": "https://localhost:8080/"
        },
        "id": "_3IUq2r_LaAA",
        "outputId": "02c996ec-2aae-422d-a4ae-58eb55d41c19"
      },
      "execution_count": null,
      "outputs": [
        {
          "output_type": "stream",
          "name": "stdout",
          "text": [
            "(1, 2)\n",
            "(1, 2)\n",
            "(1,)\n",
            "(1, 2, 1, 2)\n",
            "(1, 2, 1, 2, 1, 2)\n",
            "(1, 2, 3)\n"
          ]
        }
      ]
    },
    {
      "cell_type": "markdown",
      "source": [
        "**Swapping variables:**"
      ],
      "metadata": {
        "id": "1kFDzPWDUH07"
      }
    },
    {
      "cell_type": "code",
      "source": [
        "x = 20\n",
        "y = 19\n",
        "\n",
        "temp = x\n",
        "x = y\n",
        "y = temp\n",
        "\n",
        "print(x,y)\n",
        "\n",
        "# swapping is easiest in python\n",
        "num1 = 13\n",
        "num2 = 20\n",
        "\n",
        "num1 , num2 = num2, num1\n",
        "print(num1,num2)"
      ],
      "metadata": {
        "colab": {
          "base_uri": "https://localhost:8080/"
        },
        "id": "35EelymhUL9C",
        "outputId": "eb6c6e0f-5c99-4764-e83b-57139f80347e"
      },
      "execution_count": null,
      "outputs": [
        {
          "output_type": "stream",
          "name": "stdout",
          "text": [
            "19 20\n",
            "20 13\n"
          ]
        }
      ]
    },
    {
      "cell_type": "markdown",
      "source": [
        "**Arrays:**\n",
        "\n",
        "\n",
        "> We mostly use lists in python, but if you are dealing with large number of values then we use a very efficient data structure in python and that is Array.\n",
        "\n",
        "\n",
        "> We 90% use lists, but if we see any performance problem then we use arrays or working with 10,000 values then we switch to arrays\n"
      ],
      "metadata": {
        "id": "fY3DwJ29VCH_"
      }
    },
    {
      "cell_type": "code",
      "source": [
        "from array import array\n",
        "\n",
        "numbers = array(\"i\", [1,2,3]) # We have all functions append,insert,pop, remove functions exactly like list\n",
        "numbers[0] = 8.9 # give error cause at the time of initialization we use integer typecode 'i'\n"
      ],
      "metadata": {
        "id": "y2BzuRsGVE46"
      },
      "execution_count": null,
      "outputs": []
    },
    {
      "cell_type": "markdown",
      "source": [
        "**Sets:** a collection with no duplicates"
      ],
      "metadata": {
        "id": "fmGTyImLaIwz"
      }
    },
    {
      "cell_type": "code",
      "source": [
        "numbers = [1,2,1,3,4,4,4]\n",
        "set1 = set(numbers)\n",
        "print(set1)\n",
        "\n",
        "set2 = {1,2,5} # we can initialize a set like this too\n",
        "\n",
        "# Union of two sets\n",
        "union = set1 | set2 # it will have elements which are unique in both sets\n",
        "print(union)\n",
        "\n",
        "# Intersection of two sets\n",
        "intersection = set1 & set2 # it will have elements which are common in both sets\n",
        "print(intersection)\n",
        "\n",
        "# Difference of two sets\n",
        "difference = set1 - set2 # it will have elements which are in set1 but not in set2\n",
        "print(difference)\n",
        "\n",
        "# symmetric difference\n",
        "symmetric_difference = set1 ^ set2 # it will have elements which are in set1 or set2 but not in both\n",
        "print(symmetric_difference)\n",
        "\n",
        "# We can't access values in set by index like lists ( numbers[0] X )\n",
        "if 1 in set1:\n",
        "  print(\"Yes\")"
      ],
      "metadata": {
        "colab": {
          "base_uri": "https://localhost:8080/"
        },
        "id": "fDjbKkhPaLna",
        "outputId": "427e1cac-d4cc-48ff-84ec-3000f1a2def9"
      },
      "execution_count": null,
      "outputs": [
        {
          "output_type": "stream",
          "name": "stdout",
          "text": [
            "{1, 2, 3, 4}\n",
            "{1, 2, 3, 4, 5}\n",
            "{1, 2}\n",
            "{3, 4}\n",
            "{3, 4, 5}\n",
            "Yes\n"
          ]
        }
      ]
    },
    {
      "cell_type": "markdown",
      "source": [
        "**Dictionaries:**"
      ],
      "metadata": {
        "id": "_wduXu-NfIiP"
      }
    },
    {
      "cell_type": "code",
      "source": [
        "dict1 = {\"x\":3, \"y\":5, \"z\": 77}\n",
        "# We can also use dict() function for dictionary initialization\n",
        "dict2 = dict(x=1,y=2)\n",
        "\n",
        "print(dict2[\"x\"]) # for getting the value we use key\n",
        "\n",
        "dict2[\"y\"] = 13 # we can modify\n",
        "print(dict2)\n",
        "\n",
        "dict2[\"z\"] = 50 # we can add new value in dictionary\n",
        "\n",
        "# if key not exist in the list then there are two ways to avoid error\n",
        "# 1-\n",
        "if \"a\" in dict1:\n",
        "   print(dict1[\"a\"])\n",
        "# 2-\n",
        "print(dict1.get(\"a\"))\n",
        "print(dict1.get(\"a\",0))\n",
        "\n",
        "# how to delete or remove a key-value pair from dictionary\n",
        "del dict1[\"x\"]\n",
        "print(dict1)"
      ],
      "metadata": {
        "colab": {
          "base_uri": "https://localhost:8080/"
        },
        "id": "wtsg8A_kfMP1",
        "outputId": "fb2bd1e1-cd49-48ad-fb0b-e67bc6ed6709"
      },
      "execution_count": null,
      "outputs": [
        {
          "output_type": "stream",
          "name": "stdout",
          "text": [
            "1\n",
            "{'x': 1, 'y': 13}\n",
            "None\n",
            "0\n",
            "{'y': 5, 'z': 77}\n"
          ]
        }
      ]
    },
    {
      "cell_type": "code",
      "source": [
        "# how to iterate over dictionaries\n",
        "\n",
        "for key in dict1:\n",
        "   print(key,dict1[key])\n",
        "\n",
        "print(\"-----\")\n",
        "\n",
        "for key,value in dict1.items():\n",
        "   print(key,value)"
      ],
      "metadata": {
        "colab": {
          "base_uri": "https://localhost:8080/"
        },
        "id": "CcNZrtzXlnJf",
        "outputId": "3d9be2b1-72fd-4198-ad8a-8d4351de011a"
      },
      "execution_count": null,
      "outputs": [
        {
          "output_type": "stream",
          "name": "stdout",
          "text": [
            "y 5\n",
            "z 77\n",
            "-----\n",
            "y 5\n",
            "z 77\n"
          ]
        }
      ]
    },
    {
      "cell_type": "markdown",
      "source": [
        "**Dictionary Comprehension:**"
      ],
      "metadata": {
        "id": "S_vSzt77xlsi"
      }
    },
    {
      "cell_type": "code",
      "source": [
        "numbers = { x * 2 for x in range(10) } # set comprehnsion\n",
        "print(numbers)\n",
        "\n",
        "numDict = { x: x * 2 for x in range(10) } # dictionary comprehension\n",
        "print(numDict)"
      ],
      "metadata": {
        "colab": {
          "base_uri": "https://localhost:8080/"
        },
        "id": "ehquhOfYxprQ",
        "outputId": "2b46722d-a78a-426f-d956-84a6e06bf2a1"
      },
      "execution_count": null,
      "outputs": [
        {
          "output_type": "stream",
          "name": "stdout",
          "text": [
            "{0, 2, 4, 6, 8, 10, 12, 14, 16, 18}\n",
            "{0: 0, 1: 2, 2: 4, 3: 6, 4: 8, 5: 10, 6: 12, 7: 14, 8: 16, 9: 18}\n"
          ]
        }
      ]
    },
    {
      "cell_type": "markdown",
      "source": [
        "**Generator Expression:**\n",
        "\n",
        "\n",
        "> We use generators, when we work with very large datasets and infinite stream of data.\n",
        "\n",
        "\n",
        "> Generator objects iterable and we just iterater over them like a list.\n",
        "\n",
        "\n",
        "> But unlike lists, they dont store all the values in the memory, but they generate a value on each iteration.\n"
      ],
      "metadata": {
        "id": "qB_heHIrEcVX"
      }
    },
    {
      "cell_type": "code",
      "source": [
        "from sys import getsizeof\n",
        "\n",
        "lists = [x * 2 for x in range(1000)] # list\n",
        "print(\"List Size: \", getsizeof(lists))\n",
        "\n",
        "generator = (x * 2 for x in range(1000)) # generator\n",
        "print(\"Generator Size: \",getsizeof(generator))"
      ],
      "metadata": {
        "colab": {
          "base_uri": "https://localhost:8080/"
        },
        "id": "CzYixxdKEg--",
        "outputId": "c20a174d-c3c9-4b19-871b-6a410c92af88"
      },
      "execution_count": null,
      "outputs": [
        {
          "output_type": "stream",
          "name": "stdout",
          "text": [
            "List Size:  8856\n",
            "Generator Size:  208\n"
          ]
        }
      ]
    },
    {
      "cell_type": "markdown",
      "source": [
        "**Unpacking Operator:**"
      ],
      "metadata": {
        "id": "bWygDmaWfISA"
      }
    },
    {
      "cell_type": "code",
      "source": [
        "numbers = [1,2,3]\n",
        "print(*numbers) # by this operator, we can unpack lists\n",
        "\n",
        "print(*\"Hello World\") # by this operator, we can unpack strings\n",
        "\n",
        "first = {\"a\":1, \"b\":2, \"c\":3}\n",
        "second = {\"a\":10, \"z\":11}\n",
        "combined = { **first, **second } # for dictioanry unpacking, we use **, and if same value in two, we will use latest in combined one)\n",
        "print(combined)"
      ],
      "metadata": {
        "colab": {
          "base_uri": "https://localhost:8080/"
        },
        "id": "Yh5hXJp3fMBt",
        "outputId": "5b2c4867-3544-4aae-e03f-24c174dcd1e0"
      },
      "execution_count": null,
      "outputs": [
        {
          "output_type": "stream",
          "name": "stdout",
          "text": [
            "1 2 3\n",
            "H e l l o   W o r l d\n",
            "{'a': 10, 'b': 2, 'c': 3, 'z': 11}\n"
          ]
        }
      ]
    },
    {
      "cell_type": "markdown",
      "source": [
        "**Lecture 6:**\n",
        "\n",
        "\n",
        "> Exception\n",
        "\n"
      ],
      "metadata": {
        "id": "B2vXdVbeubpI"
      }
    },
    {
      "cell_type": "code",
      "source": [
        "value = int(input(\"Enter a number: \"))\n",
        "print(value) # What if i enter other than number?\n",
        "\n",
        "try:\n",
        "  value = int(input(\"Enter a number: \"))\n",
        "except ValueError:\n",
        "  print(\"Invalid Input\")\n",
        "else: # if no exception were thrown\n",
        "  print(value)"
      ],
      "metadata": {
        "colab": {
          "base_uri": "https://localhost:8080/"
        },
        "id": "8mNF-FUsuecE",
        "outputId": "4038f761-a2cb-459c-b89c-8cecbbd19c55"
      },
      "execution_count": null,
      "outputs": [
        {
          "output_type": "stream",
          "name": "stdout",
          "text": [
            "Enter a number: 4\n",
            "4\n",
            "Enter a number: a\n",
            "Invalid Input\n"
          ]
        }
      ]
    },
    {
      "cell_type": "markdown",
      "source": [
        "**Handle multiple exceptions:**"
      ],
      "metadata": {
        "id": "B8w7OyFIxPx7"
      }
    },
    {
      "cell_type": "code",
      "source": [
        "try:\n",
        "  age = int(input(\"Age: \"))\n",
        "  value = 10 / age\n",
        "except (ValueError, ZeroDivisionError):\n",
        "  print(\"Invalid Input\")\n",
        "else:\n",
        "  print(\"Execute witout exception\")"
      ],
      "metadata": {
        "colab": {
          "base_uri": "https://localhost:8080/"
        },
        "id": "ayJKnrNlxUpL",
        "outputId": "72b20655-4b1a-41f9-e84d-251c81881314"
      },
      "execution_count": null,
      "outputs": [
        {
          "output_type": "stream",
          "name": "stdout",
          "text": [
            "Age: 0\n",
            "Invalid Input\n"
          ]
        }
      ]
    },
    {
      "cell_type": "markdown",
      "source": [
        "**Cleaning Up:**"
      ],
      "metadata": {
        "id": "PxeVmaWB14Xt"
      }
    },
    {
      "cell_type": "code",
      "source": [
        "from logging import exception\n",
        "\n",
        "try:\n",
        "  file = open(\"file.txt\")\n",
        "except exception:\n",
        "  print(exception.message)\n",
        "finally:\n",
        "  file.close()# it will execute always, whether we have exception or not, So, we use it to release external resources like to release db con etc"
      ],
      "metadata": {
        "id": "iIoY4pHU18KE"
      },
      "execution_count": null,
      "outputs": []
    },
    {
      "cell_type": "markdown",
      "source": [
        "**With Statement:**\n",
        "\n",
        "\n",
        "> With statement automatrically release external resources, so there is no need to use finally clause for closing the files etc"
      ],
      "metadata": {
        "id": "_UXjzShK3aQ5"
      }
    },
    {
      "cell_type": "code",
      "source": [
        "try:\n",
        "  with open(\"app.py\") as file:\n",
        "     print(\"file opened\")\n",
        "except exception:\n",
        "  print(exception.message)"
      ],
      "metadata": {
        "id": "Hc26d5ho3e3f"
      },
      "execution_count": null,
      "outputs": []
    },
    {
      "cell_type": "markdown",
      "source": [
        "**Raise Exception:**"
      ],
      "metadata": {
        "id": "7oVrGcbd8Z21"
      }
    },
    {
      "cell_type": "code",
      "source": [
        "def Calculate_xfactor(age):\n",
        "    if age <= 0:\n",
        "      raise ValueError(\"Age cannot be 0 or less\")\n",
        "    return 10 / age\n",
        "\n",
        "try:\n",
        "  Calculate_xfactor(-1)\n",
        "except ValueError as error:\n",
        "  print(error)\n",
        "\n",
        "# But if we build a large scale application, in which performance and scalabilty matters then we don't use the \"raise exception\""
      ],
      "metadata": {
        "colab": {
          "base_uri": "https://localhost:8080/"
        },
        "id": "i4WMLZ4G8ZjF",
        "outputId": "1ae8796c-a337-4069-d4d0-3e2d463f15b5"
      },
      "execution_count": null,
      "outputs": [
        {
          "output_type": "stream",
          "name": "stdout",
          "text": [
            "Age cannot be 0 or less\n"
          ]
        }
      ]
    },
    {
      "cell_type": "markdown",
      "source": [
        "**Lecture 7:**"
      ],
      "metadata": {
        "id": "6Rbt5N7sS5Pf"
      }
    },
    {
      "cell_type": "markdown",
      "source": [
        "**Classes:**\n",
        "\n",
        "\n",
        "> Class: is a blueprint for creating new objects\n",
        "\n",
        "\n",
        "> Objects: instance of a class\n",
        "\n",
        "\n",
        "> For example: Human is a class, and \"Ali\", \"Zain\" and \"Ahsan\" are it's objects\n",
        "\n"
      ],
      "metadata": {
        "id": "qQis6Uvqy8fP"
      }
    },
    {
      "cell_type": "markdown",
      "source": [
        "**How to create a custom class in Python?**"
      ],
      "metadata": {
        "id": "9vwJpJ1HzxCF"
      }
    },
    {
      "cell_type": "code",
      "source": [
        "class Point:\n",
        "  def draw(self):\n",
        "      print(\"Draw\")\n",
        "\n",
        "point = Point()\n",
        "point.draw()\n",
        "\n",
        "print(isinstance(point,Point))"
      ],
      "metadata": {
        "colab": {
          "base_uri": "https://localhost:8080/"
        },
        "id": "VnGDrBZ0y_If",
        "outputId": "5e90dafa-e74b-419d-ec2e-5badb70bfb0e"
      },
      "execution_count": null,
      "outputs": [
        {
          "output_type": "stream",
          "name": "stdout",
          "text": [
            "Draw\n",
            "True\n"
          ]
        }
      ]
    },
    {
      "cell_type": "markdown",
      "source": [
        "**Constructor:** it's a special method, which is called when we create a new class object.\n",
        "\n",
        "> Constrcutor is also called magic method\n",
        "  \n",
        "> (in python, we have many magic methods, which we see throughout the course)\n",
        "\n",
        "> What is self: self is a reference of current class object ( for example, when we call a point class, python will internally create point object in memory, and set self to reference at point object, point object has bunch of methods, then we can access all the functions by '.' operator, we can also access attributes ) So, by self we can get the attributes of current object and call the functions of current object.\n",
        "\n",
        "\n",
        "\n"
      ],
      "metadata": {
        "id": "89-wdlSG1Jp0"
      }
    },
    {
      "cell_type": "code",
      "source": [
        "class Point:\n",
        "  def __init__(self,x,y): # this is constructor and in python, each function of a class have atleast one parameter which is self\n",
        "      self.x = x\n",
        "      self.y = y\n",
        "\n",
        "  def draw(self):\n",
        "      print(f\"Point({self.x},{self.y})\")\n",
        "\n",
        "point = Point(1,2)\n",
        "# print(point.x)\n",
        "point.draw() # we call draw method, we did not have to supply the value to self parameter, bcz python do it by himself"
      ],
      "metadata": {
        "colab": {
          "base_uri": "https://localhost:8080/"
        },
        "id": "djsbBEIT2LXU",
        "outputId": "f5ba9048-8ec6-481b-fb8a-458239316b13"
      },
      "execution_count": null,
      "outputs": [
        {
          "output_type": "stream",
          "name": "stdout",
          "text": [
            "Point(1,2)\n"
          ]
        }
      ]
    },
    {
      "cell_type": "markdown",
      "source": [
        "**Class vs Instance Attributes:**"
      ],
      "metadata": {
        "id": "ih5XNzsMSc_T"
      }
    },
    {
      "cell_type": "code",
      "source": [
        "class Point:\n",
        "  default_color = \"red\" # Class level Attributes: They will be same across all instances of class\n",
        "  def __init__(self,x,y):\n",
        "      self.x = x\n",
        "      self.y = y\n",
        "\n",
        "# Point.default_color = \"Yellow\"\n",
        "point = Point(1,2)\n",
        "print(point.default_color)\n",
        "\n",
        "point.z = 10 # bcz objects in python are dynamic, similar to js, so we can define them whenever we need them\n",
        "# ( but these all x,y,z are intance attributes, in other words, these attributes belongs to point instances or objects )\n",
        "\n",
        "anotherPoint = Point(3,4) # so instance level attributes will be different for each instance\n",
        "print(anotherPoint.default_color)\n"
      ],
      "metadata": {
        "colab": {
          "base_uri": "https://localhost:8080/"
        },
        "id": "GhNz1KVMSjkG",
        "outputId": "fec83e40-b2f6-43dc-f920-220963a7705f"
      },
      "execution_count": null,
      "outputs": [
        {
          "output_type": "stream",
          "name": "stdout",
          "text": [
            "red\n",
            "red\n"
          ]
        }
      ]
    },
    {
      "cell_type": "markdown",
      "source": [
        "**Class vs Instance Methods:**"
      ],
      "metadata": {
        "id": "yVcHEbWVYiUV"
      }
    },
    {
      "cell_type": "code",
      "source": [
        "class Point:\n",
        "  def __init__(self,x,y):\n",
        "      self.x = x\n",
        "      self.y = y\n",
        "\n",
        "  @classmethod\n",
        "  def zero(cls): # its first parameter is cls\n",
        "      return cls(0,0) # using cls we give initial values\n",
        "\n",
        "  def draw(self): # these both (constructor + draw) are instance level methods, which we can call by making an object/instance of a class\n",
        "      print(f\"Point({self.x},{self.y})\")\n",
        "\n",
        "\n",
        "\n",
        "point = Point.zero()\n",
        "point.draw()\n"
      ],
      "metadata": {
        "colab": {
          "base_uri": "https://localhost:8080/"
        },
        "id": "wWD5CfmDYo1T",
        "outputId": "74d49d1d-a1f4-4653-e28b-226b414ea552"
      },
      "execution_count": null,
      "outputs": [
        {
          "output_type": "stream",
          "name": "stdout",
          "text": [
            "Point(0,0)\n"
          ]
        }
      ]
    },
    {
      "cell_type": "markdown",
      "source": [
        "**Magic Methods:** Start and ends with __ (two underscores), and called automatically by python interpreter\n",
        "\n",
        "\n",
        "> You can explore them by google \"Python 3 Magic methods\"\n",
        "\n"
      ],
      "metadata": {
        "id": "3rtc3OvSq-ko"
      }
    },
    {
      "cell_type": "code",
      "source": [
        "def __init__(self) # constructor / magic function (called by python interpretor itself)\n",
        "\n",
        "def __str__(self) # another magic function"
      ],
      "metadata": {
        "id": "zX9c8V6prQqU"
      },
      "execution_count": null,
      "outputs": []
    },
    {
      "cell_type": "markdown",
      "source": [
        "**Compare the objects:**"
      ],
      "metadata": {
        "id": "6rvGKLr5txig"
      }
    },
    {
      "cell_type": "code",
      "source": [
        "class Point:\n",
        "  def __init__(self,x,y):\n",
        "      self.x = x\n",
        "      self.y = y\n",
        "\n",
        "  def __eq__(self,other):\n",
        "      return self.x == other.x and self.y == other.y\n",
        "\n",
        "  def __gt__(self,other):\n",
        "      return self.x > other.x and self.y > other.y\n",
        "\n",
        "  def __add__(self,other): # Arithmetic Operations: We can also perform arithmetic operations using magic functions\n",
        "      return Point(self.x + other.x, self.y + other.y)\n",
        "\n",
        "point = Point(1,2)\n",
        "other = Point(1,2)\n",
        "\n",
        "print(point == other)\n",
        "\n",
        "print(point > other)\n",
        "\n",
        "combined = point + other\n",
        "print(combined.x , combined.y)"
      ],
      "metadata": {
        "colab": {
          "base_uri": "https://localhost:8080/"
        },
        "id": "8yJFR_0Vt21h",
        "outputId": "734722d5-edf7-4378-ad1e-fd1938a6f660"
      },
      "execution_count": null,
      "outputs": [
        {
          "output_type": "stream",
          "name": "stdout",
          "text": [
            "True\n",
            "False\n",
            "2 4\n"
          ]
        }
      ]
    },
    {
      "cell_type": "markdown",
      "source": [
        "**Making custom containers:** first we see built-in data structures in python, now we will make our own custom datastructure or container"
      ],
      "metadata": {
        "id": "l94f7T3nwWo6"
      }
    },
    {
      "cell_type": "code",
      "source": [
        "class tagCloud:\n",
        "   def __init__(self):\n",
        "       self.tags = {}\n",
        "\n",
        "   def add(self,tag):\n",
        "       self.tags[tag.lower()] = self.tags.get(tag.lower(),0) + 1\n",
        "\n",
        "   def __getItem__(self,tag):\n",
        "       return self.tags.get(tag,0)\n",
        "\n",
        "   def __setitem__(self,tag,count):\n",
        "       self.tags[tag] = count\n",
        "\n",
        "   def __len__(self):\n",
        "       return len(self.tags)\n",
        "\n",
        "   def __iter__(self):\n",
        "       return iter(self.tags)\n",
        "\n",
        "# as this is container, so these functionalies should must be support by this custome container like builtIn one's\n",
        "cloud = tagCloud()\n",
        "cloud.add(\"c++\")\n",
        "cloud.add(\"c++\")\n",
        "cloud.add(\"java\")\n",
        "print(len(cloud))\n",
        "cloud[\"python\"] = 10\n",
        "print(cloud.tags)\n",
        "for tag in cloud:\n",
        "  print(tag)"
      ],
      "metadata": {
        "colab": {
          "base_uri": "https://localhost:8080/"
        },
        "id": "HVHtJ3xxvSrf",
        "outputId": "0d8cf175-fc75-4153-b1ed-720f823dc00b"
      },
      "execution_count": null,
      "outputs": [
        {
          "output_type": "stream",
          "name": "stdout",
          "text": [
            "2\n",
            "{'c++': 2, 'java': 1, 'python': 10}\n",
            "c++\n",
            "java\n",
            "python\n"
          ]
        }
      ]
    },
    {
      "cell_type": "markdown",
      "source": [
        "**Private Members:** In Python, if we want to indicate that an attribute is intended to be private, we prefix its name with double underscores, like __tags. This makes the attribute name-mangled — meaning it is internally renamed to include the class name (e.g., _ClassName__tags), making it harder to access directly.\n",
        "\n",
        "However, unlike some other languages (like Java or C++), Python does not enforce true access restriction. We can still access these attributes using name mangling or by inspecting the object's __dict__. So, while it's not truly private, the double underscore is used to discourage direct access and signal that the attribute is for internal use only."
      ],
      "metadata": {
        "id": "n28Y4IFrKSOl"
      }
    },
    {
      "cell_type": "code",
      "source": [
        "class Product:\n",
        "    def __init__(self):\n",
        "        self.__tags = [\"sale\", \"featured\"]\n",
        "\n",
        "p = Product()\n",
        "print(p.__dict__)  # {'_Product__tags': ['sale', 'featured']}\n",
        "print(p._Product__tags)  # Accessing with name mangling"
      ],
      "metadata": {
        "colab": {
          "base_uri": "https://localhost:8080/"
        },
        "id": "7pvEKRQBNPnw",
        "outputId": "0329093b-3502-4a95-8c02-f3aab39ae204"
      },
      "execution_count": null,
      "outputs": [
        {
          "output_type": "stream",
          "name": "stdout",
          "text": [
            "{'_Product__tags': ['sale', 'featured']}\n",
            "['sale', 'featured']\n"
          ]
        }
      ]
    },
    {
      "cell_type": "markdown",
      "source": [
        "**Properties:**\n",
        "\n",
        "@property:\n",
        "\n",
        "Makes the price method act like a getter.\n",
        "\n",
        "Allows you to access it like an attribute: product.price, not product.price().\n",
        "\n",
        "@price.setter:\n",
        "\n",
        "This makes price a settable property, so you can assign like product.price = 20.\n",
        "\n",
        "Without this, the property would be read-only.\n",
        "\n",
        "Validation:\n",
        "\n",
        "You’re adding a check that disallows setting a negative price.\n",
        "\n",
        "If value < 0, a ValueError is raised."
      ],
      "metadata": {
        "id": "C0G6yy3vNZ-l"
      }
    },
    {
      "cell_type": "code",
      "source": [
        "class Product:\n",
        "    def __init__(self,price):\n",
        "        self.price = price # This calls the setter method (not the raw assignment)\n",
        "\n",
        "    @property\n",
        "    def price(self):\n",
        "        return self.__price # This is the getter\n",
        "\n",
        "    @price.setter # if we dont have setter property, then this price value will be read-only property\n",
        "    def price(self,value):\n",
        "        if value < 0:\n",
        "            raise ValueError(\"Price cannot be negative\")\n",
        "        self.__price = value\n",
        "\n",
        "product = Product(10)\n",
        "print(product.price)\n",
        "# You don’t always need to make an attribute a property, but you should when you want to control how an attribute is accessed or modified —\n",
        "# while still allowing the attribute to be used as if it’s a simple variable."
      ],
      "metadata": {
        "colab": {
          "base_uri": "https://localhost:8080/"
        },
        "id": "jrrsaXfWP3vn",
        "outputId": "38203f29-a1dc-4fc4-ccfd-2f311283871f"
      },
      "execution_count": null,
      "outputs": [
        {
          "output_type": "stream",
          "name": "stdout",
          "text": [
            "10\n"
          ]
        }
      ]
    },
    {
      "cell_type": "markdown",
      "source": [
        "**Lecture 8:**"
      ],
      "metadata": {
        "id": "UfYakQhcWrs0"
      }
    },
    {
      "cell_type": "markdown",
      "source": [
        "**Inheritance:** Inheritance is one of the core concepts of object-oriented programming (OOP). It allows a class (called a child or subclass) to reuse the attributes and methods of another class (called a parent or superclass)."
      ],
      "metadata": {
        "id": "90zTK1tie8kt"
      }
    },
    {
      "cell_type": "markdown",
      "source": [
        "\n",
        "\n",
        "> So, inheritance prevent duplication and allow us to reuse the code.\n"
      ],
      "metadata": {
        "id": "RZqJehP8oxUJ"
      }
    },
    {
      "cell_type": "code",
      "source": [
        "class Animal():\n",
        "   def __init__(self):\n",
        "       self.age = 5\n",
        "\n",
        "   def eat(self):\n",
        "       print(\"eat\")\n",
        "\n",
        "class Mammal(Animal):\n",
        "   def walk(self):\n",
        "       print(\"walk\")\n",
        "\n",
        "class Fish(Animal):\n",
        "   def swim(self):\n",
        "       print(\"swim\")\n",
        "\n",
        "m = Mammal()\n",
        "m.eat()\n",
        "m.walk()\n",
        "m.age"
      ],
      "metadata": {
        "colab": {
          "base_uri": "https://localhost:8080/"
        },
        "id": "B1H5pEVoXLLV",
        "outputId": "711ec25c-f3e5-4edc-e2ed-7ff45cf2e392"
      },
      "execution_count": null,
      "outputs": [
        {
          "output_type": "stream",
          "name": "stdout",
          "text": [
            "eat\n",
            "walk\n"
          ]
        },
        {
          "output_type": "execute_result",
          "data": {
            "text/plain": [
              "5"
            ]
          },
          "metadata": {},
          "execution_count": 1
        }
      ]
    },
    {
      "cell_type": "markdown",
      "source": [
        "\n",
        "\n",
        "> And each super/base class inherits from object class\n",
        "\n"
      ],
      "metadata": {
        "id": "f3a-PWkqh77D"
      }
    },
    {
      "cell_type": "code",
      "source": [
        "print(isinstance(m,Mammal))\n",
        "print(isinstance(m,Animal))\n",
        "print(isinstance(m,object))\n",
        "obj = object()\n",
        "print(issubclass(Mammal,Animal))\n",
        "print(issubclass(Mammal,object))"
      ],
      "metadata": {
        "colab": {
          "base_uri": "https://localhost:8080/"
        },
        "id": "fLsIR6cwh-HY",
        "outputId": "93e22081-c1a5-4e8b-88e5-0767d5f355e0"
      },
      "execution_count": null,
      "outputs": [
        {
          "output_type": "stream",
          "name": "stdout",
          "text": [
            "True\n",
            "True\n",
            "True\n",
            "True\n",
            "True\n"
          ]
        }
      ]
    },
    {
      "cell_type": "markdown",
      "source": [
        "**Method Overriding:** Method Overriding allows a child class to provide a specific implementation of a method that is already defined in its parent class.\n"
      ],
      "metadata": {
        "id": "I8jvlf9KmWnD"
      }
    },
    {
      "cell_type": "code",
      "source": [
        "class Animal:\n",
        "    def sound(self):\n",
        "        print(\"Some generic animal sound\")\n",
        "\n",
        "class Dog(Animal):\n",
        "    def sound(self):  # This overrides Animal.sound()\n",
        "        print(\"Woof!\")\n",
        "\n",
        "class Cat(Animal):\n",
        "    def sound(self):\n",
        "        super().sound() # super() function to get the access of base or super class\n",
        "        print(\"Meow!\")\n",
        "\n",
        "a = Animal()\n",
        "a.sound()  # Output: Some generic animal sound\n",
        "\n",
        "d = Dog()\n",
        "d.sound()\n",
        "\n",
        "c = Cat()\n",
        "c.sound()"
      ],
      "metadata": {
        "colab": {
          "base_uri": "https://localhost:8080/"
        },
        "id": "C_RdgdLnniG1",
        "outputId": "67d2c963-1781-4325-abc1-d8258345317d"
      },
      "execution_count": null,
      "outputs": [
        {
          "output_type": "stream",
          "name": "stdout",
          "text": [
            "Some generic animal sound\n",
            "Woof!\n",
            "Some generic animal sound\n",
            "Meow!\n"
          ]
        }
      ]
    },
    {
      "cell_type": "markdown",
      "source": [
        "**Multi-Level Inheritance:** multi-level inheritance in Python, where a class inherits from a class, which inherits from another class — forming a chain.\n",
        "\n",
        "\n",
        "> Employee -> Person -> LivingCreature -> Thing ( multi-level inheritance makes your program very complex, so try to avoid more than two levels )\n",
        "\n"
      ],
      "metadata": {
        "id": "9BRdepMwpnsW"
      }
    },
    {
      "cell_type": "code",
      "source": [
        "class Thing:\n",
        "    def describe(self):\n",
        "        print(\"This is a thing.\")\n",
        "\n",
        "class LivingCreature(Thing):\n",
        "    def breathe(self):\n",
        "        print(\"Breathing...\")\n",
        "\n",
        "class Person(LivingCreature):\n",
        "    def speak(self):\n",
        "        print(\"Speaking...\")\n",
        "\n",
        "class Employee(Person):\n",
        "    def work(self):\n",
        "        print(\"Working...\")\n",
        "\n",
        "# Test\n",
        "e = Employee()\n",
        "e.describe()   # From Thing\n",
        "e.breathe()    # From LivingCreature\n",
        "e.speak()      # From Person\n",
        "e.work()       # From Employee\n"
      ],
      "metadata": {
        "id": "8vl6ZC6-rBxZ"
      },
      "execution_count": null,
      "outputs": []
    },
    {
      "cell_type": "markdown",
      "source": [
        "**Multiple Inheritance:** When a class inherits from more than one parent class, it's called multiple inheritance."
      ],
      "metadata": {
        "id": "AE31xI6drqoo"
      }
    },
    {
      "cell_type": "code",
      "source": [
        "class Flyer():\n",
        "    def fly(self):\n",
        "        print(\"Can fly\")\n",
        "\n",
        "class Swimmer():\n",
        "    def swim(self):\n",
        "        print(\"Can swim\")\n",
        "\n",
        "class FlyingFish(Flyer,Swimmer):\n",
        "    def fly_swim(self):\n",
        "        print(\"Can fly and swim\")\n",
        "\n",
        "f = FlyingFish()\n",
        "f.fly()\n",
        "f.swim()\n",
        "f.fly_swim()"
      ],
      "metadata": {
        "colab": {
          "base_uri": "https://localhost:8080/"
        },
        "id": "UKBxGvKCtRF6",
        "outputId": "30cc7f54-365f-4419-8a41-cd468df6dfd3"
      },
      "execution_count": null,
      "outputs": [
        {
          "output_type": "stream",
          "name": "stdout",
          "text": [
            "Can fly\n",
            "Can swim\n",
            "Can fly and swim\n"
          ]
        }
      ]
    },
    {
      "cell_type": "markdown",
      "source": [
        "**Method Resolution Order (MRO)** Python uses C3 linearization (depth-first, left-to-right) to resolve which method to call when multiple parent classes have the same method."
      ],
      "metadata": {
        "id": "GhPvRkwcty3k"
      }
    },
    {
      "cell_type": "code",
      "source": [
        "class A:\n",
        "    def greet(self):\n",
        "        print(\"Hello from A\")\n",
        "\n",
        "class B:\n",
        "    def greet(self):\n",
        "        print(\"Hello from B\")\n",
        "\n",
        "class C(A, B):\n",
        "    pass\n",
        "\n",
        "c = C()\n",
        "c.greet()  # Output: Hello from A\n",
        "print(C.__mro__)  # Check Method Resolution Order\n"
      ],
      "metadata": {
        "colab": {
          "base_uri": "https://localhost:8080/"
        },
        "id": "t94d0lbKuATL",
        "outputId": "ab1d93ac-e4f4-46e0-c629-2aacd00a2e8d"
      },
      "execution_count": null,
      "outputs": [
        {
          "output_type": "stream",
          "name": "stdout",
          "text": [
            "Hello from A\n",
            "(<class '__main__.C'>, <class '__main__.A'>, <class '__main__.B'>, <class 'object'>)\n"
          ]
        }
      ]
    },
    {
      "cell_type": "markdown",
      "source": [
        "**Abstract Base Class (ABC) in Python:** An Abstract Base Class (ABC) is a class that cannot be instantiated and is used to define a common interface for all its child classes. It enforces that certain methods must be implemented in any subclass."
      ],
      "metadata": {
        "id": "gufJezqcMUxE"
      }
    },
    {
      "cell_type": "code",
      "source": [
        "from abc import ABC, abstractmethod # Python provides the abc module\n",
        "\n",
        "class Animal(ABC):  # Inherit from ABC\n",
        "    @abstractmethod\n",
        "    def sound(self):\n",
        "        pass\n",
        "# Now, Animal cannot be instantiated directly, and all subclasses must override sound().\n",
        "\n",
        "class Dog(Animal):\n",
        "    def sound(self):\n",
        "        print(\"Woof!\")\n",
        "\n",
        "class Cat(Animal):\n",
        "    def sound(self):\n",
        "        print(\"Meow!\")\n",
        "a = Dog()\n",
        "a.sound()  # Output: Woof!\n",
        "\n",
        "b = Cat()\n",
        "b.sound()  # Output: Meow!\n",
        "\n",
        "x = Animal()  # TypeError: Can't instantiate abstract class"
      ],
      "metadata": {
        "colab": {
          "base_uri": "https://localhost:8080/"
        },
        "id": "ETmqOvkjM5Fz",
        "outputId": "cddc1cca-01c2-408c-e3eb-b4ac4531f77f"
      },
      "execution_count": null,
      "outputs": [
        {
          "output_type": "stream",
          "name": "stdout",
          "text": [
            "Woof!\n",
            "Meow!\n"
          ]
        }
      ]
    },
    {
      "cell_type": "markdown",
      "source": [
        "**Polymorphism:** Polymorphism means \"many forms\".\n",
        "In object-oriented programming (OOP), polymorphism allows different classes to be treated as if they were the same type, usually through shared methods or interfaces."
      ],
      "metadata": {
        "id": "Q1lExnnbOMtP"
      }
    },
    {
      "cell_type": "code",
      "source": [
        "# Example 1\n",
        "class Animal:\n",
        "    def speak(self):\n",
        "        print(\"Animal speaks\")\n",
        "\n",
        "class Dog(Animal):\n",
        "    def speak(self):\n",
        "        print(\"Woof!\")\n",
        "\n",
        "class Cat(Animal):\n",
        "    def speak(self):\n",
        "        print(\"Meow!\")\n",
        "\n",
        "def animal_sound(animal):\n",
        "    animal.speak()\n",
        "\n",
        "animal_sound(Dog())\n",
        "animal_sound(Cat())"
      ],
      "metadata": {
        "colab": {
          "base_uri": "https://localhost:8080/"
        },
        "id": "u_m11zZ3R_Xo",
        "outputId": "f94f4220-9c4c-4581-b75f-8a410ebb6bc3"
      },
      "execution_count": null,
      "outputs": [
        {
          "output_type": "stream",
          "name": "stdout",
          "text": [
            "Woof!\n",
            "Meow!\n"
          ]
        }
      ]
    },
    {
      "cell_type": "code",
      "source": [
        "#Example 2\n",
        "from abc import ABC,abstractmethod\n",
        "\n",
        "class Shape(ABC):\n",
        "   @abstractmethod\n",
        "   def draw(self):\n",
        "      print(\"Drawing Shape\")\n",
        "\n",
        "class Circle(Shape):\n",
        "   def draw(self):\n",
        "      print(\"Drawing Circle\")\n",
        "\n",
        "class Square(Shape):\n",
        "   def draw(self):\n",
        "      print(\"Drawing Square\")\n",
        "\n",
        "shapes = [Circle(), Square()]\n",
        "for shape in shapes:\n",
        "  shape.draw()"
      ],
      "metadata": {
        "colab": {
          "base_uri": "https://localhost:8080/"
        },
        "id": "kgvYGzLqfMxg",
        "outputId": "2b4ae9cb-083e-470e-e536-3174ee7ec634"
      },
      "execution_count": null,
      "outputs": [
        {
          "output_type": "stream",
          "name": "stdout",
          "text": [
            "Drawing Circle\n",
            "Drawing Square\n"
          ]
        }
      ]
    },
    {
      "cell_type": "markdown",
      "source": [
        "**Duck Typing:** Duck Typing is a concept in dynamic programming languages like Python where type checking is based on behavior, not on the actual type of the object.\n",
        "> “If it walks like a duck and quacks like a duck, it’s a duck.”"
      ],
      "metadata": {
        "id": "3tgULvwhhHhH"
      }
    },
    {
      "cell_type": "code",
      "source": [
        "class Duck:\n",
        "    def quack(self):\n",
        "        print(\"Quack!\")\n",
        "\n",
        "class Person:\n",
        "    def quack(self):\n",
        "        print(\"I'm pretending to be a duck!\")\n",
        "\n",
        "def make_it_quack(thing):\n",
        "    thing.quack()  # No type checking — just call the method\n",
        "\n",
        "make_it_quack(Duck())     # Output: Quack!\n",
        "make_it_quack(Person())   # Output: I'm pretending to be a duck!"
      ],
      "metadata": {
        "colab": {
          "base_uri": "https://localhost:8080/"
        },
        "id": "qQ_1zRgSkAAB",
        "outputId": "921185af-3358-4b02-ebf0-3347dab47442"
      },
      "execution_count": null,
      "outputs": [
        {
          "output_type": "stream",
          "name": "stdout",
          "text": [
            "Quack!\n",
            "I'm pretending to be a duck!\n"
          ]
        }
      ]
    },
    {
      "cell_type": "markdown",
      "source": [
        "You’ve already used duck typing without knowing! Example:"
      ],
      "metadata": {
        "id": "wF6tOceMkS99"
      }
    },
    {
      "cell_type": "code",
      "source": [
        "len(\"hello\")   # works\n",
        "len([1,2,3])   # works\n",
        "len({1: \"a\"})  # works\n",
        "\n",
        "# Because all these types have a __len__() method inside.\n",
        "# Python doesn't care what type it is.\n",
        "# It just calls .len() as long as it's available."
      ],
      "metadata": {
        "id": "kGMys5CkkXRc"
      },
      "execution_count": null,
      "outputs": []
    },
    {
      "cell_type": "markdown",
      "source": [
        "**Extending Built-in types:** In python, it is very easy to extend the built-in types"
      ],
      "metadata": {
        "id": "lwhAvJ3Dk1g9"
      }
    },
    {
      "cell_type": "code",
      "source": [
        "class Text(str):\n",
        "      def duplicate(self):\n",
        "          return self + self # So in string functions, i added one more function\n",
        "\n",
        "class TrackableList(list): # Now i extended the list's append function\n",
        "      def append(self,object):\n",
        "          print(\"Append Called\")\n",
        "          super().append(object)\n",
        "\n",
        "my_list = TrackableList()\n",
        "my_list.append(\"a\")"
      ],
      "metadata": {
        "colab": {
          "base_uri": "https://localhost:8080/"
        },
        "id": "ycE6H-23k5T-",
        "outputId": "b3753852-887a-49fe-d639-d733ffea5a40"
      },
      "execution_count": null,
      "outputs": [
        {
          "output_type": "stream",
          "name": "stdout",
          "text": [
            "Append Called\n"
          ]
        }
      ]
    },
    {
      "cell_type": "markdown",
      "source": [
        "**namedtuple:** a super useful and lightweight alternative to classes when you need simple, immutable objects with named fields. ( In simple words, if we need class without behaviour but only data )"
      ],
      "metadata": {
        "id": "O_52HCyGsvSN"
      }
    },
    {
      "cell_type": "code",
      "source": [
        "from collections import namedtuple\n",
        "\n",
        "Point = namedtuple(\"Point\", [\"x\",\"y\"])\n",
        "p = Point(x=1,y=2) # We will pass keyword arguments\n",
        "print(p.x)\n",
        "print(p.y)\n",
        "# p.x = 10 # it will give error, cause namedtuples are immutable, we can't change or update it's value"
      ],
      "metadata": {
        "colab": {
          "base_uri": "https://localhost:8080/"
        },
        "id": "eeONsHTZstmE",
        "outputId": "1a1ec8d9-6b6e-47d2-9d6a-cac90823e8f0"
      },
      "execution_count": null,
      "outputs": [
        {
          "output_type": "stream",
          "name": "stdout",
          "text": [
            "1\n",
            "2\n"
          ]
        }
      ]
    },
    {
      "cell_type": "markdown",
      "source": [
        "**Lecture 9:**"
      ],
      "metadata": {
        "id": "jzVpo8G3AJZk"
      }
    },
    {
      "cell_type": "markdown",
      "source": [
        "**Module:** In Python, modules are files containing Python code (usually with a .py extension). They allow you to organize your code into manageable pieces, promote reusability, and prevent repetition. These modules typically contain functions, classes, and variables that are logically related and serve a common purpose, making your programs more structured and easier to maintain."
      ],
      "metadata": {
        "id": "PEmVLqzQAM7q"
      }
    },
    {
      "cell_type": "code",
      "source": [
        "# This is my sales module.\n",
        "# I'll save it as sales.py. Whenever I want to use it in another file, I'll simply import it using:\n",
        "from sales\n",
        "\n",
        "#After importing, when I press Ctrl + Space (in most code editors like VS Code), I can see all the functions and variables defined in the\n",
        "#sales module. This makes it easier to explore and reuse the code I’ve written."
      ],
      "metadata": {
        "id": "cajTusbkAQm8"
      },
      "execution_count": null,
      "outputs": []
    },
    {
      "cell_type": "code",
      "source": [
        "from sales import calculate_tax\n",
        "from sales import calculate_tax, total_tax\n",
        "from sales\n",
        "\n",
        "sales.calculate_tax()"
      ],
      "metadata": {
        "id": "R_P8YaANDVO1"
      },
      "execution_count": null,
      "outputs": []
    }
  ]
}